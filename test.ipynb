{
 "cells": [
  {
   "cell_type": "code",
   "execution_count": 1,
   "id": "f04acc5e-39c1-4ff8-a5e4-a5f340242913",
   "metadata": {
    "tags": []
   },
   "outputs": [],
   "source": [
    "import pandas as pd\n",
    "from sqlalchemy import create_engine\n",
    "from sqlalchemy.sql import text"
   ]
  },
  {
   "cell_type": "code",
   "execution_count": 2,
   "id": "25d5d455-fe13-4c68-9725-ea1a646251bd",
   "metadata": {
    "tags": []
   },
   "outputs": [],
   "source": [
    "db_host = \"gupeveno.mysql.db.hostpoint.ch\"\n",
    "db_name = \"gupeveno_backendAzolla\"\n",
    "db_username = \"gupeveno_azbeu\"\n",
    "db_password = \"backend_GoNet0\"\n",
    "\n",
    "db_connection_string = f\"mysql+pymysql://{db_username}:{db_password}@{db_host}/{db_name}\""
   ]
  },
  {
   "cell_type": "code",
   "execution_count": 3,
   "id": "daed9895-e582-4ffc-afa0-e52152383223",
   "metadata": {
    "tags": []
   },
   "outputs": [],
   "source": [
    "db_engine = create_engine(db_connection_string)\n",
    "db_connection = db_engine.connect()"
   ]
  },
  {
   "cell_type": "code",
   "execution_count": 6,
   "id": "f871ea8d-5fff-4941-910a-ada202c54a88",
   "metadata": {
    "tags": []
   },
   "outputs": [
    {
     "name": "stdout",
     "output_type": "stream",
     "text": [
      "<class 'pandas.core.frame.DataFrame'>\n",
      "RangeIndex: 144 entries, 0 to 143\n",
      "Data columns (total 17 columns):\n",
      " #   Column                    Non-Null Count  Dtype         \n",
      "---  ------                    --------------  -----         \n",
      " 0   transaction_id            144 non-null    int64         \n",
      " 1   user_id                   144 non-null    int64         \n",
      " 2   subscription_id           76 non-null     float64       \n",
      " 3   quantity                  57 non-null     float64       \n",
      " 4   product_name              144 non-null    object        \n",
      " 5   type                      144 non-null    object        \n",
      " 6   timestamp                 144 non-null    datetime64[ns]\n",
      " 7   reference_number          144 non-null    object        \n",
      " 8   stripe_session_id         140 non-null    object        \n",
      " 9   stripe_invoice_id         62 non-null     object        \n",
      " 10  stripe_customer_id        91 non-null     object        \n",
      " 11  datatrans_transaction_id  144 non-null    object        \n",
      " 12  price_amount              144 non-null    int64         \n",
      " 13  price_currency            144 non-null    object        \n",
      " 14  carbon_amount             144 non-null    int64         \n",
      " 15  carbon_mix                144 non-null    object        \n",
      " 16  transaction_status        144 non-null    object        \n",
      "dtypes: datetime64[ns](1), float64(2), int64(4), object(10)\n",
      "memory usage: 19.3+ KB\n",
      "None\n"
     ]
    }
   ],
   "source": [
    "query = text(\"SELECT * FROM transactions\")\n",
    "\n",
    "df = pd.read_sql(query, con=db_connection)\n",
    "\n",
    "print(df.info())"
   ]
  },
  {
   "cell_type": "code",
   "execution_count": null,
   "id": "9787e9ef-f15a-4924-b2b5-50f6164e7a3d",
   "metadata": {},
   "outputs": [],
   "source": []
  }
 ],
 "metadata": {
  "kernelspec": {
   "display_name": "Python 3 (ipykernel)",
   "language": "python",
   "name": "python3"
  },
  "language_info": {
   "codemirror_mode": {
    "name": "ipython",
    "version": 3
   },
   "file_extension": ".py",
   "mimetype": "text/x-python",
   "name": "python",
   "nbconvert_exporter": "python",
   "pygments_lexer": "ipython3",
   "version": "3.11.2"
  }
 },
 "nbformat": 4,
 "nbformat_minor": 5
}
